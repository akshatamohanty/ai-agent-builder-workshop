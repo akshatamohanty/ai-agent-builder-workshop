{
  "nbformat": 4,
  "nbformat_minor": 0,
  "metadata": {
    "colab": {
      "provenance": [],
      "toc_visible": true
    },
    "kernelspec": {
      "name": "python3",
      "display_name": "Python 3"
    },
    "language_info": {
      "name": "python"
    }
  },
  "cells": [
    {
      "cell_type": "markdown",
      "source": [
        "# Introduction to LangGraph\n",
        "\n",
        "Building truely useful agents is complicated, with multiple flows, tools and decision points.\n",
        "\n",
        "LangGraph is a library for building stateful, multi-actor applications with LLMs, used to create agent and multi-agent workflows.\n",
        "\n",
        "Compared to other LLM frameworks, it offers these core benefits: cycles, controllability, and persistence. LangGraph allows you to define flows that involve cycles, essential for most agentic architectures, differentiating it from DAG-based solutions. As a very low-level framework, it provides fine-grained control over both the flow and state of your application, crucial for creating reliable agents. Additionally, LangGraph includes built-in persistence, enabling advanced human-in-the-loop and memory features."
      ],
      "metadata": {
        "id": "FcGNyZ7mTPnA"
      }
    },
    {
      "cell_type": "markdown",
      "source": [
        "# Getting started with LangGraph\n",
        "\n",
        "At its core, LangGraph models agent workflows as graphs. You define the behavior of your agents using three key components:\n",
        "\n",
        "\n",
        "1.   **State**: A shared data structure that represents the current snapshot of your application. It can be any Python type, but is typically a TypedDict or Pydantic BaseModel.\n",
        "2.   **Nodes**: Python functions that encode the logic of your agents. They receive the current State as input, perform some computation or side-effect, and return an updated State.\n",
        "3.   **Edges**: Python functions that determine which Node to execute next based on the current State. They can be conditional branches or fixed transitions.\n",
        "\n",
        "\n",
        "By composing Nodes and Edges, you can create complex, looping workflows that evolve the State over time. The real power, though, comes from how LangGraph manages that State. To emphasize: Nodes and Edges are nothing more than Python functions - they can contain an LLM or just good ol' Python code.\n",
        "\n",
        "> *In* short: nodes do the work. edges tell what to do next.\n",
        "\n",
        "Reference: https://langchain-ai.github.io/langgraph/concepts/low_level/"
      ],
      "metadata": {
        "id": "ERmKMLGJq0Cq"
      }
    },
    {
      "cell_type": "markdown",
      "source": [
        "## Installation"
      ],
      "metadata": {
        "id": "tciaGA2kseO_"
      }
    },
    {
      "cell_type": "code",
      "source": [
        "%pip install --quiet -U langgraph"
      ],
      "metadata": {
        "colab": {
          "base_uri": "https://localhost:8080/"
        },
        "id": "VuEeY92FUT34",
        "outputId": "f965380a-f7bf-4e82-d3c5-b7ff8a59a0e1"
      },
      "execution_count": 1,
      "outputs": [
        {
          "output_type": "stream",
          "name": "stdout",
          "text": [
            "\u001b[?25l   \u001b[90m━━━━━━━━━━━━━━━━━━━━━━━━━━━━━━━━━━━━━━━━\u001b[0m \u001b[32m0.0/119.3 kB\u001b[0m \u001b[31m?\u001b[0m eta \u001b[36m-:--:--\u001b[0m\r\u001b[2K   \u001b[91m━━━━━━━━━━━━━━━━━━━━━━━━━━━━━━━━━━━━━\u001b[0m\u001b[91m╸\u001b[0m\u001b[90m━━\u001b[0m \u001b[32m112.6/119.3 kB\u001b[0m \u001b[31m7.8 MB/s\u001b[0m eta \u001b[36m0:00:01\u001b[0m\r\u001b[2K   \u001b[90m━━━━━━━━━━━━━━━━━━━━━━━━━━━━━━━━━━━━━━━━\u001b[0m \u001b[32m119.3/119.3 kB\u001b[0m \u001b[31m2.2 MB/s\u001b[0m eta \u001b[36m0:00:00\u001b[0m\n",
            "\u001b[?25h\u001b[?25l   \u001b[90m━━━━━━━━━━━━━━━━━━━━━━━━━━━━━━━━━━━━━━━━\u001b[0m \u001b[32m0.0/408.7 kB\u001b[0m \u001b[31m?\u001b[0m eta \u001b[36m-:--:--\u001b[0m\r\u001b[2K   \u001b[91m━━━━━━━━━━━━━━━━━━━━━━━━━━━━━━━━━━━━━━━\u001b[0m\u001b[90m╺\u001b[0m \u001b[32m399.4/408.7 kB\u001b[0m \u001b[31m30.1 MB/s\u001b[0m eta \u001b[36m0:00:01\u001b[0m\r\u001b[2K   \u001b[90m━━━━━━━━━━━━━━━━━━━━━━━━━━━━━━━━━━━━━━━━\u001b[0m \u001b[32m408.7/408.7 kB\u001b[0m \u001b[31m10.5 MB/s\u001b[0m eta \u001b[36m0:00:00\u001b[0m\n",
            "\u001b[?25h"
          ]
        }
      ]
    },
    {
      "cell_type": "markdown",
      "source": [
        "## State\n",
        "\n",
        "One of the central concepts of LangGraph is **state**. Each graph execution creates a state that is passed between nodes in the graph as they execute, and each node updates this internal state with its return value after it executes.\n",
        "\n",
        "* When we define a LangGraph `StateGraph`, we use a [state schema](https://langchain-ai.github.io/langgraph/concepts/low_level/#state). The state schema represents the structure and types of data that our graph will use. All nodes are expected to communicate with that schema.\n",
        "* The `MessageGraph` class is a special type of graph. The State of a MessageGraph is ONLY a list of messages. This class is rarely used except for chatbots, as most applications require the State to be more complex than a list of messages.\n",
        "\n",
        "LangGraph offers flexibility in how you define your state schema, accommodating various Python [types](https://docs.python.org/3/library/stdtypes.html#type-objects) and validation approaches!\n",
        "\n",
        "There are many way to specify state. We can use the `TypedDict` class from python's `typing` module that allows us to specify keys and their corresponding value types.\n",
        "\n",
        "However this not enforced at runtime! This means you could potentially assign invalid values without raising an error!"
      ],
      "metadata": {
        "id": "438wXjbAr4Sn"
      }
    },
    {
      "cell_type": "code",
      "source": [
        "from typing import Literal\n",
        "from typing_extensions import TypedDict\n",
        "\n",
        "class TypedDictState(TypedDict):\n",
        "    name: str\n",
        "    mood: Literal[\"happy\",\"sad\"]"
      ],
      "metadata": {
        "id": "i_vLrWEyTrin"
      },
      "execution_count": 2,
      "outputs": []
    },
    {
      "cell_type": "markdown",
      "source": [
        "## Nodes"
      ],
      "metadata": {
        "id": "qL6_YlkCsXDn"
      }
    },
    {
      "cell_type": "code",
      "source": [
        "def node_1(state):\n",
        "    print(\"---Node 1---\")\n",
        "    return {\"name\": state['name'] + \" is ... \"}\n",
        "\n",
        "def node_2(state):\n",
        "    print(\"---Node 2---\")\n",
        "    return {\"mood\": \"happy\"}\n",
        "\n",
        "def node_3(state):\n",
        "    print(\"---Node 3---\")\n",
        "    return {\"mood\": \"sad\"}"
      ],
      "metadata": {
        "id": "S_DxlBaLUgKB"
      },
      "execution_count": 4,
      "outputs": []
    },
    {
      "cell_type": "code",
      "source": [
        "import random\n",
        "from typing import Literal\n",
        "\n",
        "def decide_mood(state) -> Literal[\"node_2\", \"node_3\"]:\n",
        "\n",
        "    # Often, we will use state to decide on the next node to visit\n",
        "    user_input = state['name']\n",
        "\n",
        "    # Here, let's just do a 50 / 50 split between nodes 2, 3\n",
        "    if random.random() < 0.5:\n",
        "\n",
        "        # 50% of the time, we return Node 2\n",
        "        return \"node_2\"\n",
        "\n",
        "    # 50% of the time, we return Node 3\n",
        "    return \"node_3\""
      ],
      "metadata": {
        "id": "LRrcp87aUmmZ"
      },
      "execution_count": 5,
      "outputs": []
    },
    {
      "cell_type": "markdown",
      "source": [
        "## Building the graph"
      ],
      "metadata": {
        "id": "McDPIJRNS9-D"
      }
    },
    {
      "cell_type": "code",
      "source": [
        "from langgraph.graph import StateGraph, START, END\n",
        "\n",
        "# Build graph\n",
        "builder = StateGraph(TypedDictState)\n",
        "builder.add_node(\"node_1\", node_1)\n",
        "builder.add_node(\"node_2\", node_2)\n",
        "builder.add_node(\"node_3\", node_3)\n",
        "\n",
        "# Logic\n",
        "builder.add_edge(START, \"node_1\")\n",
        "builder.add_conditional_edges(\"node_1\", decide_mood)\n",
        "builder.add_edge(\"node_2\", END)\n",
        "builder.add_edge(\"node_3\", END)"
      ],
      "metadata": {
        "colab": {
          "base_uri": "https://localhost:8080/"
        },
        "id": "BL89Lc0yS_v0",
        "outputId": "54158f5d-4a36-4856-f699-8f8501e495ed"
      },
      "execution_count": 6,
      "outputs": [
        {
          "output_type": "execute_result",
          "data": {
            "text/plain": [
              "<langgraph.graph.state.StateGraph at 0x798471eb35b0>"
            ]
          },
          "metadata": {},
          "execution_count": 6
        }
      ]
    },
    {
      "cell_type": "markdown",
      "source": [
        "## Compiling the graph\n",
        "\n",
        "To build your graph, you first define the state, you then add nodes and edges, and then you compile it. What exactly is compiling your graph and why is it needed?\n",
        "\n",
        "Compiling is a pretty simple step. It provides a few basic checks on the structure of your graph (no orphaned nodes, etc). It is also where you can specify runtime args like checkpointers and breakpoints. You compile your graph by just calling the .compile method:"
      ],
      "metadata": {
        "id": "EYZ02-1cUqeZ"
      }
    },
    {
      "cell_type": "code",
      "source": [
        "from IPython.display import Image, display\n",
        "\n",
        "# Add\n",
        "graph = builder.compile()\n",
        "\n",
        "# View\n",
        "display(Image(graph.get_graph().draw_mermaid_png()))"
      ],
      "metadata": {
        "colab": {
          "base_uri": "https://localhost:8080/",
          "height": 350
        },
        "id": "dS_uKUAwUru6",
        "outputId": "d2d314f6-1383-475d-fb30-19090a781511"
      },
      "execution_count": 7,
      "outputs": [
        {
          "output_type": "display_data",
          "data": {
            "image/jpeg": "[encoded data removed]",
            "text/plain": [
              "<IPython.core.display.Image object>"
            ]
          },
          "metadata": {}
        }
      ]
    },
    {
      "cell_type": "code",
      "source": [
        "graph.invoke({\"name\" : \"Lance\"})"
      ],
      "metadata": {
        "colab": {
          "base_uri": "https://localhost:8080/"
        },
        "id": "rdr8K9F1U4ZH",
        "outputId": "275b7188-a77d-4c1b-dabf-a1f429d5ae1f"
      },
      "execution_count": 10,
      "outputs": [
        {
          "output_type": "stream",
          "name": "stdout",
          "text": [
            "---Node 1---\n",
            "---Node 2---\n"
          ]
        },
        {
          "output_type": "execute_result",
          "data": {
            "text/plain": [
              "{'name': 'Lance is ... ', 'mood': 'happy'}"
            ]
          },
          "metadata": {},
          "execution_count": 10
        }
      ]
    },
    {
      "cell_type": "markdown",
      "source": [
        "## State Reducers\n",
        "\n",
        "Reducers are key to understanding how updates from nodes are applied to the State. Each key in the State has its own independent reducer function. If no reducer function is explicitly specified then it is assumed that all updates to that key should override it.\n",
        "\n",
        "\n",
        "Let's understand this with an example with two nodes running in parallel."
      ],
      "metadata": {
        "id": "bnGkImHttNZm"
      }
    },
    {
      "cell_type": "code",
      "source": [
        "from IPython.display import Image, display\n",
        "from langgraph.graph import StateGraph, START, END\n",
        "\n",
        "# Build graph\n",
        "builder = StateGraph(TypedDictState)\n",
        "builder.add_node(\"node_1\", node_1)\n",
        "builder.add_node(\"node_2\", node_2)\n",
        "builder.add_node(\"node_3\", node_3)\n",
        "\n",
        "# Logic\n",
        "builder.add_edge(START, \"node_1\")\n",
        "builder.add_edge(\"node_1\", \"node_2\")\n",
        "builder.add_edge(\"node_1\", \"node_3\")\n",
        "builder.add_edge(\"node_2\", END)\n",
        "builder.add_edge(\"node_3\", END)\n",
        "\n",
        "# Add\n",
        "graph = builder.compile()\n",
        "\n",
        "# View\n",
        "display(Image(graph.get_graph().draw_mermaid_png()))"
      ],
      "metadata": {
        "colab": {
          "base_uri": "https://localhost:8080/",
          "height": 350
        },
        "id": "KqnEag2wtQgA",
        "outputId": "548f4c13-eddc-4088-87fd-6284dfdbfa45"
      },
      "execution_count": 12,
      "outputs": [
        {
          "output_type": "display_data",
          "data": {
            "image/jpeg": "[encoded data removed]",
            "text/plain": [
              "<IPython.core.display.Image object>"
            ]
          },
          "metadata": {}
        }
      ]
    },
    {
      "cell_type": "code",
      "source": [
        "graph.invoke({\"name\" : \"Lance\"})"
      ],
      "metadata": {
        "colab": {
          "base_uri": "https://localhost:8080/",
          "height": 356
        },
        "id": "sq4JoMcjtYpg",
        "outputId": "c6d68547-4e45-435d-c39f-79df2961e115"
      },
      "execution_count": 13,
      "outputs": [
        {
          "output_type": "stream",
          "name": "stdout",
          "text": [
            "---Node 1---\n",
            "---Node 2---\n",
            "---Node 3---\n"
          ]
        },
        {
          "output_type": "error",
          "ename": "InvalidUpdateError",
          "evalue": "At key 'mood': Can receive only one value per step. Use an Annotated key to handle multiple values.\nFor troubleshooting, visit: https://python.langchain.com/docs/troubleshooting/errors/INVALID_CONCURRENT_GRAPH_UPDATE",
          "traceback": [
            "\u001b[0;31m---------------------------------------------------------------------------\u001b[0m",
            "\u001b[0;31mInvalidUpdateError\u001b[0m                        Traceback (most recent call last)",
            "\u001b[0;32m<ipython-input-13-9763ef366132>\u001b[0m in \u001b[0;36m<cell line: 1>\u001b[0;34m()\u001b[0m\n\u001b[0;32m----> 1\u001b[0;31m \u001b[0mgraph\u001b[0m\u001b[0;34m.\u001b[0m\u001b[0minvoke\u001b[0m\u001b[0;34m(\u001b[0m\u001b[0;34m{\u001b[0m\u001b[0;34m\"name\"\u001b[0m \u001b[0;34m:\u001b[0m \u001b[0;34m\"Lance\"\u001b[0m\u001b[0;34m}\u001b[0m\u001b[0;34m)\u001b[0m\u001b[0;34m\u001b[0m\u001b[0;34m\u001b[0m\u001b[0m\n\u001b[0m",
            "\u001b[0;32m/usr/local/lib/python3.10/dist-packages/langgraph/pregel/__init__.py\u001b[0m in \u001b[0;36minvoke\u001b[0;34m(self, input, config, stream_mode, output_keys, interrupt_before, interrupt_after, debug, **kwargs)\u001b[0m\n\u001b[1;32m   1606\u001b[0m         \u001b[0;32melse\u001b[0m\u001b[0;34m:\u001b[0m\u001b[0;34m\u001b[0m\u001b[0;34m\u001b[0m\u001b[0m\n\u001b[1;32m   1607\u001b[0m             \u001b[0mchunks\u001b[0m \u001b[0;34m=\u001b[0m \u001b[0;34m[\u001b[0m\u001b[0;34m]\u001b[0m\u001b[0;34m\u001b[0m\u001b[0;34m\u001b[0m\u001b[0m\n\u001b[0;32m-> 1608\u001b[0;31m         for chunk in self.stream(\n\u001b[0m\u001b[1;32m   1609\u001b[0m             \u001b[0minput\u001b[0m\u001b[0;34m,\u001b[0m\u001b[0;34m\u001b[0m\u001b[0;34m\u001b[0m\u001b[0m\n\u001b[1;32m   1610\u001b[0m             \u001b[0mconfig\u001b[0m\u001b[0;34m,\u001b[0m\u001b[0;34m\u001b[0m\u001b[0;34m\u001b[0m\u001b[0m\n",
            "\u001b[0;32m/usr/local/lib/python3.10/dist-packages/langgraph/pregel/__init__.py\u001b[0m in \u001b[0;36mstream\u001b[0;34m(self, input, config, stream_mode, output_keys, interrupt_before, interrupt_after, debug, subgraphs)\u001b[0m\n\u001b[1;32m   1328\u001b[0m                 \u001b[0;31m# channels are guaranteed to be immutable for the duration of the step,\u001b[0m\u001b[0;34m\u001b[0m\u001b[0;34m\u001b[0m\u001b[0m\n\u001b[1;32m   1329\u001b[0m                 \u001b[0;31m# with channel updates applied only at the transition between steps\u001b[0m\u001b[0;34m\u001b[0m\u001b[0;34m\u001b[0m\u001b[0m\n\u001b[0;32m-> 1330\u001b[0;31m                 while loop.tick(\n\u001b[0m\u001b[1;32m   1331\u001b[0m                     \u001b[0minput_keys\u001b[0m\u001b[0;34m=\u001b[0m\u001b[0mself\u001b[0m\u001b[0;34m.\u001b[0m\u001b[0minput_channels\u001b[0m\u001b[0;34m,\u001b[0m\u001b[0;34m\u001b[0m\u001b[0;34m\u001b[0m\u001b[0m\n\u001b[1;32m   1332\u001b[0m                     \u001b[0minterrupt_before\u001b[0m\u001b[0;34m=\u001b[0m\u001b[0minterrupt_before_\u001b[0m\u001b[0;34m,\u001b[0m\u001b[0;34m\u001b[0m\u001b[0;34m\u001b[0m\u001b[0m\n",
            "\u001b[0;32m/usr/local/lib/python3.10/dist-packages/langgraph/pregel/loop.py\u001b[0m in \u001b[0;36mtick\u001b[0;34m(self, input_keys, interrupt_after, interrupt_before, manager)\u001b[0m\n\u001b[1;32m    293\u001b[0m                 )\n\u001b[1;32m    294\u001b[0m             \u001b[0;31m# all tasks have finished\u001b[0m\u001b[0;34m\u001b[0m\u001b[0;34m\u001b[0m\u001b[0m\n\u001b[0;32m--> 295\u001b[0;31m             mv_writes = apply_writes(\n\u001b[0m\u001b[1;32m    296\u001b[0m                 \u001b[0mself\u001b[0m\u001b[0;34m.\u001b[0m\u001b[0mcheckpoint\u001b[0m\u001b[0;34m,\u001b[0m\u001b[0;34m\u001b[0m\u001b[0;34m\u001b[0m\u001b[0m\n\u001b[1;32m    297\u001b[0m                 \u001b[0mself\u001b[0m\u001b[0;34m.\u001b[0m\u001b[0mchannels\u001b[0m\u001b[0;34m,\u001b[0m\u001b[0;34m\u001b[0m\u001b[0;34m\u001b[0m\u001b[0m\n",
            "\u001b[0;32m/usr/local/lib/python3.10/dist-packages/langgraph/pregel/algo.py\u001b[0m in \u001b[0;36mapply_writes\u001b[0;34m(checkpoint, channels, tasks, get_next_version)\u001b[0m\n\u001b[1;32m    248\u001b[0m     \u001b[0;32mfor\u001b[0m \u001b[0mchan\u001b[0m\u001b[0;34m,\u001b[0m \u001b[0mvals\u001b[0m \u001b[0;32min\u001b[0m \u001b[0mpending_writes_by_channel\u001b[0m\u001b[0;34m.\u001b[0m\u001b[0mitems\u001b[0m\u001b[0;34m(\u001b[0m\u001b[0;34m)\u001b[0m\u001b[0;34m:\u001b[0m\u001b[0;34m\u001b[0m\u001b[0;34m\u001b[0m\u001b[0m\n\u001b[1;32m    249\u001b[0m         \u001b[0;32mif\u001b[0m \u001b[0mchan\u001b[0m \u001b[0;32min\u001b[0m \u001b[0mchannels\u001b[0m\u001b[0;34m:\u001b[0m\u001b[0;34m\u001b[0m\u001b[0;34m\u001b[0m\u001b[0m\n\u001b[0;32m--> 250\u001b[0;31m             \u001b[0;32mif\u001b[0m \u001b[0mchannels\u001b[0m\u001b[0;34m[\u001b[0m\u001b[0mchan\u001b[0m\u001b[0;34m]\u001b[0m\u001b[0;34m.\u001b[0m\u001b[0mupdate\u001b[0m\u001b[0;34m(\u001b[0m\u001b[0mvals\u001b[0m\u001b[0;34m)\u001b[0m \u001b[0;32mand\u001b[0m \u001b[0mget_next_version\u001b[0m \u001b[0;32mis\u001b[0m \u001b[0;32mnot\u001b[0m \u001b[0;32mNone\u001b[0m\u001b[0;34m:\u001b[0m\u001b[0;34m\u001b[0m\u001b[0;34m\u001b[0m\u001b[0m\n\u001b[0m\u001b[1;32m    251\u001b[0m                 checkpoint[\"channel_versions\"][chan] = get_next_version(\n\u001b[1;32m    252\u001b[0m                     \u001b[0mmax_version\u001b[0m\u001b[0;34m,\u001b[0m\u001b[0;34m\u001b[0m\u001b[0;34m\u001b[0m\u001b[0m\n",
            "\u001b[0;32m/usr/local/lib/python3.10/dist-packages/langgraph/channels/last_value.py\u001b[0m in \u001b[0;36mupdate\u001b[0;34m(self, values)\u001b[0m\n\u001b[1;32m     45\u001b[0m                 \u001b[0merror_code\u001b[0m\u001b[0;34m=\u001b[0m\u001b[0mErrorCode\u001b[0m\u001b[0;34m.\u001b[0m\u001b[0mINVALID_CONCURRENT_GRAPH_UPDATE\u001b[0m\u001b[0;34m,\u001b[0m\u001b[0;34m\u001b[0m\u001b[0;34m\u001b[0m\u001b[0m\n\u001b[1;32m     46\u001b[0m             )\n\u001b[0;32m---> 47\u001b[0;31m             \u001b[0;32mraise\u001b[0m \u001b[0mInvalidUpdateError\u001b[0m\u001b[0;34m(\u001b[0m\u001b[0mmsg\u001b[0m\u001b[0;34m)\u001b[0m\u001b[0;34m\u001b[0m\u001b[0;34m\u001b[0m\u001b[0m\n\u001b[0m\u001b[1;32m     48\u001b[0m \u001b[0;34m\u001b[0m\u001b[0m\n\u001b[1;32m     49\u001b[0m         \u001b[0mself\u001b[0m\u001b[0;34m.\u001b[0m\u001b[0mvalue\u001b[0m \u001b[0;34m=\u001b[0m \u001b[0mvalues\u001b[0m\u001b[0;34m[\u001b[0m\u001b[0;34m-\u001b[0m\u001b[0;36m1\u001b[0m\u001b[0;34m]\u001b[0m\u001b[0;34m\u001b[0m\u001b[0;34m\u001b[0m\u001b[0m\n",
            "\u001b[0;31mInvalidUpdateError\u001b[0m: At key 'mood': Can receive only one value per step. Use an Annotated key to handle multiple values.\nFor troubleshooting, visit: https://python.langchain.com/docs/troubleshooting/errors/INVALID_CONCURRENT_GRAPH_UPDATE"
          ]
        }
      ]
    },
    {
      "cell_type": "markdown",
      "source": [
        "What just happened?!\n",
        "\n",
        "In the above example, as shown by the error, two nodes are trying to simulataneously update the state.\n",
        "> InvalidUpdateError: At key 'mood': Can receive only one value per step. Use an Annotated key to handle multiple values.\n",
        "\n",
        "\n",
        "\n",
        "**Reducers**\n",
        "Reducers give us a general way to address this problem. They specify how to perform updates. We can use the Annotated type to specify a reducer function.\n",
        "\n",
        "For example, in this case let's append the value returned from each node rather than overwriting them. We just need a reducer that can perform this: `operator.add` is a function from Python's built-in operator module. When operator.add is applied to lists, it performs list concatenation."
      ],
      "metadata": {
        "id": "ar2iomqYtq_U"
      }
    },
    {
      "cell_type": "code",
      "source": [
        "from operator import add\n",
        "from typing import Annotated\n",
        "\n",
        "class State(TypedDict):\n",
        "    name: str\n",
        "    mood: Annotated[list[str], add]\n",
        "\n",
        "def node_1(state):\n",
        "    print(\"---Node 1---\")\n",
        "    return {\"name\": state['name']}\n",
        "\n",
        "def node_2(state):\n",
        "    print(\"---Node 2---\")\n",
        "    return {\"mood\": [\"happy\"]}\n",
        "\n",
        "def node_3(state):\n",
        "    print(\"---Node 3---\")\n",
        "    return {\"mood\":[ \"sad\"]}\n",
        "\n",
        "# Build graph\n",
        "builder = StateGraph(State)\n",
        "builder.add_node(\"node_1\", node_1)\n",
        "builder.add_node(\"node_2\", node_2)\n",
        "builder.add_node(\"node_3\", node_3)\n",
        "\n",
        "# Logic\n",
        "builder.add_edge(START, \"node_1\")\n",
        "builder.add_edge(\"node_1\", \"node_2\")\n",
        "builder.add_edge(\"node_1\", \"node_3\")\n",
        "builder.add_edge(\"node_2\", END)\n",
        "builder.add_edge(\"node_3\", END)\n",
        "\n",
        "# Add\n",
        "graph = builder.compile()\n",
        "\n",
        "# View\n",
        "display(Image(graph.get_graph().draw_mermaid_png()))"
      ],
      "metadata": {
        "colab": {
          "base_uri": "https://localhost:8080/",
          "height": 350
        },
        "id": "24Ge4_svtoKH",
        "outputId": "c01edcb0-1b50-4035-9f2e-de5c0b014172"
      },
      "execution_count": 16,
      "outputs": [
        {
          "output_type": "display_data",
          "data": {
            "image/jpeg": "[encoded data removed]",
            "text/plain": [
              "<IPython.core.display.Image object>"
            ]
          },
          "metadata": {}
        }
      ]
    },
    {
      "cell_type": "code",
      "source": [
        "graph.invoke({\"name\" : \"Lance\"})"
      ],
      "metadata": {
        "colab": {
          "base_uri": "https://localhost:8080/"
        },
        "id": "RyfUwnyqxhqr",
        "outputId": "d4d44e22-609d-4cfe-b7f2-95492864d278"
      },
      "execution_count": 17,
      "outputs": [
        {
          "output_type": "stream",
          "name": "stdout",
          "text": [
            "---Node 1---\n",
            "---Node 2------Node 3---\n",
            "\n"
          ]
        },
        {
          "output_type": "execute_result",
          "data": {
            "text/plain": [
              "{'name': 'Lance', 'mood': ['happy', 'sad']}"
            ]
          },
          "metadata": {},
          "execution_count": 17
        }
      ]
    },
    {
      "cell_type": "markdown",
      "source": [
        "Now the moods are being added to the state - yay!"
      ],
      "metadata": {
        "id": "oNiqzjawTrMS"
      }
    },
    {
      "cell_type": "markdown",
      "source": [
        "## Human-in-the-Loop & Breakpoints"
      ],
      "metadata": {
        "id": "r2g_pya9T_CH"
      }
    },
    {
      "cell_type": "markdown",
      "source": [
        "It can often be useful to set breakpoints before or after certain nodes execute. This can be used to wait for human approval before continuing. These can be set when you \"compile\" a graph. You can set breakpoints either before a node executes (using `interrupt_before`) or after a node executes (using interrupt_after.)\n",
        "\n",
        "You **MUST** use a checkpoiner when using breakpoints. This is because your graph needs to be able to resume execution.\n",
        "\n",
        "In order to resume execution, you can just invoke your graph with None as the input."
      ],
      "metadata": {
        "id": "Ll0-8HxGTyU7"
      }
    },
    {
      "cell_type": "code",
      "source": [
        "from operator import add\n",
        "from typing import Annotated\n",
        "from langgraph.checkpoint.memory import MemorySaver\n",
        "\n",
        "class State(TypedDict):\n",
        "    name: str\n",
        "    mood: Annotated[list[str], add]\n",
        "\n",
        "def node_1(state):\n",
        "    print(\"---Node 1---\")\n",
        "    return {\"name\": state['name']}\n",
        "\n",
        "def node_2(state):\n",
        "    print(\"---Node 2---\")\n",
        "    return {\"mood\": [\"happy\"]}\n",
        "\n",
        "def node_3(state):\n",
        "    print(\"---Node 3---\")\n",
        "    return {\"mood\":[\"sad\"]}\n",
        "\n",
        "\n",
        "def decide_mood(state) -> Literal[\"node_2\", \"node_3\"]:\n",
        "\n",
        "    # Often, we will use state to decide on the next node to visit\n",
        "    user_input = state['name']\n",
        "\n",
        "    # Here, let's just do a 50 / 50 split between nodes 2, 3\n",
        "    if random.random() < 0.1:\n",
        "\n",
        "        # 50% of the time, we return Node 2\n",
        "        return \"node_2\"\n",
        "\n",
        "    # 50% of the time, we return Node 3\n",
        "    return \"node_3\"\n",
        "\n",
        "# Build graph\n",
        "builder = StateGraph(State)\n",
        "builder.add_node(\"node_1\", node_1)\n",
        "builder.add_node(\"node_2\", node_2)\n",
        "builder.add_node(\"node_3\", node_3)\n",
        "\n",
        "# Logic\n",
        "builder.add_edge(START, \"node_1\")\n",
        "builder.add_conditional_edges(\"node_1\", decide_mood)\n",
        "builder.add_edge(\"node_2\", END)\n",
        "builder.add_edge(\"node_3\", END)\n",
        "\n",
        "# Add\n",
        "memory = MemorySaver()\n",
        "graph = builder.compile(interrupt_before=[\"node_3\"], checkpointer=memory)\n",
        "\n",
        "# View\n",
        "display(Image(graph.get_graph().draw_mermaid_png()))"
      ],
      "metadata": {
        "colab": {
          "base_uri": "https://localhost:8080/",
          "height": 392
        },
        "id": "tlD7ZdSd5ilj",
        "outputId": "d1823689-4141-4954-ce87-35474256ab06"
      },
      "execution_count": 18,
      "outputs": [
        {
          "output_type": "display_data",
          "data": {
            "image/jpeg": "[encoded data removed]",
            "text/plain": [
              "<IPython.core.display.Image object>"
            ]
          },
          "metadata": {}
        }
      ]
    },
    {
      "cell_type": "code",
      "source": [
        "# Input\n",
        "initial_input = {\"name\": \"Lance\"}\n",
        "\n",
        "# Thread\n",
        "thread = {\"configurable\": {\"thread_id\": \"1\"}}\n",
        "\n",
        "# Run the graph until the first interruption: stream_mode: \"values\" or \"updates\"\n",
        "for event in graph.stream(initial_input, thread, stream_mode=\"values\"):\n",
        "    print(event)"
      ],
      "metadata": {
        "colab": {
          "base_uri": "https://localhost:8080/"
        },
        "id": "HJ3f_vsS0qM5",
        "outputId": "ba488c0b-94de-415f-e157-ff078aa29264"
      },
      "execution_count": 19,
      "outputs": [
        {
          "output_type": "stream",
          "name": "stdout",
          "text": [
            "{'name': 'Lance', 'mood': []}\n",
            "---Node 1---\n",
            "{'name': 'Lance', 'mood': []}\n"
          ]
        }
      ]
    },
    {
      "cell_type": "code",
      "source": [
        "state = graph.get_state(thread)\n",
        "state.next"
      ],
      "metadata": {
        "colab": {
          "base_uri": "https://localhost:8080/"
        },
        "id": "ykLYpWJz6MAR",
        "outputId": "6ed57919-239e-4535-f19a-e2736c96d018"
      },
      "execution_count": null,
      "outputs": [
        {
          "output_type": "execute_result",
          "data": {
            "text/plain": [
              "('node_3',)"
            ]
          },
          "metadata": {},
          "execution_count": 15
        }
      ]
    },
    {
      "cell_type": "code",
      "source": [
        "for event in graph.stream(None, thread, stream_mode=\"values\"):\n",
        "    print(event)"
      ],
      "metadata": {
        "colab": {
          "base_uri": "https://localhost:8080/"
        },
        "id": "9uyolosF6Q6O",
        "outputId": "b8eb2da3-c7a3-41b4-c995-85aa5ba0fea3"
      },
      "execution_count": null,
      "outputs": [
        {
          "output_type": "stream",
          "name": "stdout",
          "text": [
            "{'name': 'Lance', 'mood': []}\n",
            "---Node 3---\n",
            "{'name': 'Lance', 'mood': ['sad']}\n"
          ]
        }
      ]
    },
    {
      "cell_type": "markdown",
      "source": [
        "## Difference Between State and Checkpoint\n",
        "\n",
        "State: It Represents the current snapshot of the application at any given moment. It is dynamic and evolves as nodes in the graph execute, reflecting real-time changes and updates. State is used by nodes to perform computations and determine the next steps in the workflow.\n",
        "\n",
        "Checkpoint: A checkpoint is a saved version of the state at a specific point in time during graph execution. It allows the system to pause and resume execution, preserving the context for future interactions. Checkpoints facilitate human-in-the-loop workflows by enabling users to inspect and modify the state before continuing execution.\n",
        "\n",
        "Thread ID\n",
        "\n",
        "In LangGraph, a thread_id is a unique identifier associated with a specific thread of execution within the system. Each thread represents a distinct flow of interaction or conversation, allowing the system to manage multiple dialogues or processes simultaneously. Memory in LangGraph is tied to thread_id in the following ways:\n",
        "\n",
        "Reference: [Beginners Guide to Langgraph Memory](https://medium.com/@kbdhunga/beginners-guide-to-langgraph-memory-part-3-ad7fb15ab462#:~:text=Thread%20ID,multiple%20dialogues%20or%20processes%20simultaneously.)"
      ],
      "metadata": {
        "id": "mwuZd8skUA8u"
      }
    },
    {
      "cell_type": "markdown",
      "source": [
        "## Subgraphs, Parallelization and Map-Reduce (optional!)\n",
        "\n",
        "There are many powerful things you can do with LangGraph. Try them out!\n",
        "\n",
        "1.   [Subgraph Example](https://colab.research.google.com/github/langchain-ai/langchain-academy/blob/main/module-4/sub-graph.ipynb#scrollTo=05b26c51)\n",
        "2.   [Parallelization Example](https://colab.research.google.com/github/langchain-ai/langchain-academy/blob/main/module-4/parallelization.ipynb#scrollTo=bfb4f56c-3334-4927-8ed8-62fd384ee43e)\n",
        "3.   [Map Reduce](https://colab.research.google.com/github/langchain-ai/langchain-academy/blob/main/module-4/map-reduce.ipynb)\n",
        "\n",
        "\n",
        "\n"
      ],
      "metadata": {
        "id": "D3CXrrxh0TZh"
      }
    },
    {
      "cell_type": "markdown",
      "source": [
        "# Example: Simple QnA Agent\n",
        "\n"
      ],
      "metadata": {
        "id": "kJn_liR-z9Zu"
      }
    },
    {
      "cell_type": "markdown",
      "source": [
        "## Setup the environment"
      ],
      "metadata": {
        "id": "feHnxDuYUpNc"
      }
    },
    {
      "cell_type": "code",
      "source": [
        "%pip install --quiet -U langchain_community  langchain-google-genai wikipedia"
      ],
      "metadata": {
        "colab": {
          "base_uri": "https://localhost:8080/"
        },
        "id": "vsH3Z2tj74J7",
        "outputId": "95c8fbe0-1c97-4a51-e3a6-eedad8e0df8c"
      },
      "execution_count": 20,
      "outputs": [
        {
          "output_type": "stream",
          "name": "stdout",
          "text": [
            "  Preparing metadata (setup.py) ... \u001b[?25l\u001b[?25hdone\n",
            "\u001b[2K   \u001b[90m━━━━━━━━━━━━━━━━━━━━━━━━━━━━━━━━━━━━━━━━\u001b[0m \u001b[32m2.4/2.4 MB\u001b[0m \u001b[31m29.0 MB/s\u001b[0m eta \u001b[36m0:00:00\u001b[0m\n",
            "\u001b[2K   \u001b[90m━━━━━━━━━━━━━━━━━━━━━━━━━━━━━━━━━━━━━━━━\u001b[0m \u001b[32m41.8/41.8 kB\u001b[0m \u001b[31m2.5 MB/s\u001b[0m eta \u001b[36m0:00:00\u001b[0m\n",
            "\u001b[2K   \u001b[90m━━━━━━━━━━━━━━━━━━━━━━━━━━━━━━━━━━━━━━━━\u001b[0m \u001b[32m1.0/1.0 MB\u001b[0m \u001b[31m38.1 MB/s\u001b[0m eta \u001b[36m0:00:00\u001b[0m\n",
            "\u001b[2K   \u001b[90m━━━━━━━━━━━━━━━━━━━━━━━━━━━━━━━━━━━━━━━━\u001b[0m \u001b[32m3.1/3.1 MB\u001b[0m \u001b[31m52.6 MB/s\u001b[0m eta \u001b[36m0:00:00\u001b[0m\n",
            "\u001b[2K   \u001b[90m━━━━━━━━━━━━━━━━━━━━━━━━━━━━━━━━━━━━━━━━\u001b[0m \u001b[32m49.5/49.5 kB\u001b[0m \u001b[31m3.4 MB/s\u001b[0m eta \u001b[36m0:00:00\u001b[0m\n",
            "\u001b[?25h  Building wheel for wikipedia (setup.py) ... \u001b[?25l\u001b[?25hdone\n"
          ]
        }
      ]
    },
    {
      "cell_type": "code",
      "source": [
        "import getpass\n",
        "import os\n",
        "\n",
        "def _set_env(var: str):\n",
        "    if not os.environ.get(var):\n",
        "        os.environ[var] = getpass.getpass(f\"{var}: \")"
      ],
      "metadata": {
        "id": "sqn6KVzo8SiD"
      },
      "execution_count": 21,
      "outputs": []
    },
    {
      "cell_type": "code",
      "source": [
        "_set_env(\"GOOGLE_API_KEY\")"
      ],
      "metadata": {
        "colab": {
          "base_uri": "https://localhost:8080/"
        },
        "id": "MSAhfXmqUaLX",
        "outputId": "f7a06945-d8e7-4e4c-fe5b-0640daf03088"
      },
      "execution_count": 22,
      "outputs": [
        {
          "name": "stdout",
          "output_type": "stream",
          "text": [
            "GOOGLE_API_KEY: ··········\n"
          ]
        }
      ]
    },
    {
      "cell_type": "code",
      "source": [
        "_set_env(\"LANGCHAIN_API_KEY\")"
      ],
      "metadata": {
        "colab": {
          "base_uri": "https://localhost:8080/"
        },
        "id": "RvhljdlGUX1z",
        "outputId": "d8cc9c40-180a-4343-f83a-10f207b4202d"
      },
      "execution_count": 23,
      "outputs": [
        {
          "name": "stdout",
          "output_type": "stream",
          "text": [
            "LANGCHAIN_API_KEY: ··········\n"
          ]
        }
      ]
    },
    {
      "cell_type": "code",
      "source": [
        "os.environ[\"LANGCHAIN_TRACING_V2\"] = \"true\"\n",
        "os.environ[\"LANGCHAIN_ENDPOINT\"] = \"https://api.smith.langchain.com\"\n",
        "os.environ[\"LANGCHAIN_PROJECT\"] = \"ai-agent-builder-workshop\""
      ],
      "metadata": {
        "id": "dg8cbFNNy5GB"
      },
      "execution_count": 38,
      "outputs": []
    },
    {
      "cell_type": "code",
      "source": [
        "_set_env(\"TAVILY_API_KEY\")"
      ],
      "metadata": {
        "colab": {
          "base_uri": "https://localhost:8080/"
        },
        "id": "sNTmD7xSUYAb",
        "outputId": "b86e3f58-8f9e-4c0c-f874-cade5e72d8b3"
      },
      "execution_count": 25,
      "outputs": [
        {
          "name": "stdout",
          "output_type": "stream",
          "text": [
            "TAVILY_API_KEY: ··········\n"
          ]
        }
      ]
    },
    {
      "cell_type": "markdown",
      "source": [
        "## Setup the model"
      ],
      "metadata": {
        "id": "Y6Y9_DgqUmzh"
      }
    },
    {
      "cell_type": "code",
      "source": [
        "from langchain_google_genai import ChatGoogleGenerativeAI\n",
        "llm = ChatGoogleGenerativeAI(model=\"gemini-1.5-flash\", temperature = 0)"
      ],
      "metadata": {
        "id": "08jgST268KmJ"
      },
      "execution_count": 28,
      "outputs": []
    },
    {
      "cell_type": "markdown",
      "source": [
        "## Define the state and nodes"
      ],
      "metadata": {
        "id": "T7VOM7LVUsfD"
      }
    },
    {
      "cell_type": "code",
      "source": [
        "from operator import add\n",
        "from langchain_core.messages import HumanMessage, SystemMessage\n",
        "from langchain_community.document_loaders import WikipediaLoader\n",
        "from langchain_community.tools.tavily_search import TavilySearchResults\n",
        "\n",
        "class State(TypedDict):\n",
        "    question: str\n",
        "    answer: str\n",
        "    context: Annotated[list, add]\n",
        "\n",
        "def search_web(state):\n",
        "\n",
        "    \"\"\" Retrieve docs from web search \"\"\"\n",
        "\n",
        "    # Search\n",
        "    tavily_search = TavilySearchResults(max_results=3)\n",
        "    search_docs = tavily_search.invoke(state['question'])\n",
        "\n",
        "     # Format\n",
        "    formatted_search_docs = \"\\n\\n---\\n\\n\".join(\n",
        "        [\n",
        "            f'<Document href=\"{doc[\"url\"]}\"/>\\n{doc[\"content\"]}\\n</Document>'\n",
        "            for doc in search_docs\n",
        "        ]\n",
        "    )\n",
        "\n",
        "    return {\"context\": [formatted_search_docs]}\n",
        "\n",
        "def search_wikipedia(state):\n",
        "\n",
        "    \"\"\" Retrieve docs from wikipedia \"\"\"\n",
        "\n",
        "    # Search\n",
        "    search_docs = WikipediaLoader(query=state['question'],\n",
        "                                  load_max_docs=2).load()\n",
        "\n",
        "     # Format\n",
        "    formatted_search_docs = \"\\n\\n---\\n\\n\".join(\n",
        "        [\n",
        "            f'<Document source=\"{doc.metadata[\"source\"]}\" page=\"{doc.metadata.get(\"page\", \"\")}\"/>\\n{doc.page_content}\\n</Document>'\n",
        "            for doc in search_docs\n",
        "        ]\n",
        "    )\n",
        "\n",
        "    return {\"context\": [formatted_search_docs]}\n",
        "\n",
        "def generate_answer(state):\n",
        "\n",
        "    \"\"\" Node to answer a question \"\"\"\n",
        "\n",
        "    # Get state\n",
        "    context = state[\"context\"]\n",
        "    question = state[\"question\"]\n",
        "\n",
        "    # Template\n",
        "    answer_template = \"\"\"Answer the question {question} using this context: {context}\"\"\"\n",
        "    answer_instructions = answer_template.format(question=question,\n",
        "                                                       context=context)\n",
        "\n",
        "    # Answer\n",
        "    answer = llm.invoke([SystemMessage(content=answer_instructions)]+[HumanMessage(content=f\"Answer the question.\")])\n",
        "\n",
        "    # Append it to state\n",
        "    return {\"answer\": answer}\n",
        "\n",
        "# Add nodes\n",
        "builder = StateGraph(State)\n",
        "\n",
        "# Initialize each node with node_secret\n",
        "builder.add_node(\"search_web\",search_web)\n",
        "builder.add_node(\"search_wikipedia\", search_wikipedia)\n",
        "builder.add_node(\"generate_answer\", generate_answer)\n",
        "\n",
        "# Flow\n",
        "builder.add_edge(START, \"search_wikipedia\")\n",
        "builder.add_edge(START, \"search_web\")\n",
        "builder.add_edge(\"search_wikipedia\", \"generate_answer\")\n",
        "builder.add_edge(\"search_web\", \"generate_answer\")\n",
        "builder.add_edge(\"generate_answer\", END)\n",
        "graph = builder.compile()\n",
        "\n",
        "display(Image(graph.get_graph().draw_mermaid_png()))"
      ],
      "metadata": {
        "colab": {
          "base_uri": "https://localhost:8080/",
          "height": 350
        },
        "id": "aISmqIOx0Aim",
        "outputId": "5eeaa4f9-dab9-46ed-8448-a690857e6675"
      },
      "execution_count": 29,
      "outputs": [
        {
          "output_type": "display_data",
          "data": {
            "image/jpeg": "[encoded data removed]",
            "text/plain": [
              "<IPython.core.display.Image object>"
            ]
          },
          "metadata": {}
        }
      ]
    },
    {
      "cell_type": "code",
      "source": [
        "result = graph.invoke({ \"question\": \"Who is the current president of Singapore?\"})\n",
        "result['answer'].content"
      ],
      "metadata": {
        "colab": {
          "base_uri": "https://localhost:8080/",
          "height": 35
        },
        "id": "PkJ1mXbG8jMu",
        "outputId": "ab36184a-00a5-4d54-f632-a082ebd2cea8"
      },
      "execution_count": 39,
      "outputs": [
        {
          "output_type": "execute_result",
          "data": {
            "text/plain": [
              "'The current president of Singapore is **Tharman Shanmugaratnam**. \\n'"
            ],
            "application/vnd.google.colaboratory.intrinsic+json": {
              "type": "string"
            }
          },
          "metadata": {},
          "execution_count": 39
        }
      ]
    },
    {
      "cell_type": "markdown",
      "source": [
        "Let's check the the LLM didn't already know this answer!"
      ],
      "metadata": {
        "id": "6xh6pyTHVa5a"
      }
    },
    {
      "cell_type": "code",
      "source": [
        "llm.invoke('Who is the current president of Singapore?')"
      ],
      "metadata": {
        "colab": {
          "base_uri": "https://localhost:8080/"
        },
        "id": "FT-6NVwIVR23",
        "outputId": "fe68aa4c-167b-4cc0-d0bf-5ba01ef58b10"
      },
      "execution_count": 37,
      "outputs": [
        {
          "output_type": "execute_result",
          "data": {
            "text/plain": [
              "AIMessage(content='The current president of Singapore is **Halimah Yacob**. She was elected in 2017 and is the first female president of Singapore. \\n', additional_kwargs={}, response_metadata={'prompt_feedback': {'block_reason': 0, 'safety_ratings': []}, 'finish_reason': 'STOP', 'safety_ratings': [{'category': 'HARM_CATEGORY_SEXUALLY_EXPLICIT', 'probability': 'NEGLIGIBLE', 'blocked': False}, {'category': 'HARM_CATEGORY_HATE_SPEECH', 'probability': 'NEGLIGIBLE', 'blocked': False}, {'category': 'HARM_CATEGORY_HARASSMENT', 'probability': 'NEGLIGIBLE', 'blocked': False}, {'category': 'HARM_CATEGORY_DANGEROUS_CONTENT', 'probability': 'NEGLIGIBLE', 'blocked': False}]}, id='run-052e6503-2d39-47c3-9ab0-891e36d891cb-0', usage_metadata={'input_tokens': 9, 'output_tokens': 31, 'total_tokens': 40, 'input_token_details': {'cache_read': 0}})"
            ]
          },
          "metadata": {},
          "execution_count": 37
        }
      ]
    },
    {
      "cell_type": "code",
      "source": [
        "result['context']"
      ],
      "metadata": {
        "colab": {
          "base_uri": "https://localhost:8080/"
        },
        "id": "M_RKoqPo2AJ3",
        "outputId": "2c6b5bb7-962c-473a-8d04-71067c92af77"
      },
      "execution_count": 36,
      "outputs": [
        {
          "output_type": "execute_result",
          "data": {
            "text/plain": [
              "['<Document href=\"https://www.channelnewsasia.com/singapore/tharman-shanmugaratnam-swearingin-singapore-president-3763676\"/>\\nEdition Menu\\nFollow our news\\nMain navigation\\nSingapore\\nFollow our news\\nAdvertisement\\nAdvertisement\\nSingapore\\nTharman Shanmugaratnam sworn in as Singapore\\'s ninth President\\nSingapore\\'s President Tharman Shanmugaratnam takes his oath at the Istana on Sep 14, 2023. “I will do my utmost to support initiatives that deepen the respect we accord to our fellow citizens, of all backgrounds and in every walk of life - the respect for all that is at the heart of our solidarity as Singaporeans,\" he added.\\n Mr Tharman took his oath of office at the State Room of the Istana, in front of guests that included former presidents Halimah Yacob and Tony Tan, as well as members of the Cabinet.\\n He also promised to work with the government, community groups, voluntary organisations and the entire nation to strengthen Singapore’s multiracialism, and nurture a more inclusive society, with the “strong mandate” voters have given him.\\n The role of the Singapore President includes being the\\xa0custodian of the nation\\'s past reserves and ensuring the integrity of its public service.\\n</Document>\\n\\n---\\n\\n<Document href=\"https://www.channelnewsasia.com/singapore/presidential-election-tharman-elected-70-cent-landslide-win-ng-kok-song-tan-kin-lian-3740526\"/>\\nEdition Menu\\nFollow our news\\nMain navigation\\nSingapore\\nFollow our news\\nAdvertisement\\nAdvertisement\\nSingapore\\nTharman Shanmugaratnam to be Singapore\\'s 9th President after 70.4% landslide win\\n \"\\nMr Ng meanwhile told reporters he was conceding the election to Mr Tharman ahead of the final tally \"because I do not want to keep all of you from your bedtime\".\\n \"The relatively low percentage of votes that I obtained was the price that I really need (to) pay in order to give Singaporeans the opportunity to exercise their right to vote. This browser is no longer supported\\nWe know it\\'s a hassle to switch browsers but we want your experience with CNA to be fast, secure and the best it can possibly be.\\n He is one of (few) who is able to straddle the political divide and garner support from across the political spectrum,” he said.\\n\\n</Document>\\n\\n---\\n\\n<Document href=\"https://en.wikipedia.org/wiki/Tharman_Shanmugaratnam\"/>\\nOn 2 September, Tharman was announced as the winner after receiving 70.41% of the vote, with Ng Kok Song receiving 15.72% and Tan Kin Lian receiving 13.87%, and was elected as the ninth president of Singapore. [67] He is the first non-Chinese presidential candidate to win in a contested presidential election in Singapore. [68]\\n</Document>',\n",
              " '<Document source=\"https://en.wikipedia.org/wiki/President_of_Singapore\" page=\"\"/>\\nThe president of the Republic of Singapore is the head of state of Singapore. The president represents the country in official diplomatic functions and possesses certain executive powers over the Government of Singapore, including the control of the national reserves and the ability to revoke and appoint public service appointments. \\nAfter Singapore achieved full internal self-governance from the British Empire in 1959, the ceremonial office of the Yang di-Pertuan Negara (lit. \"Lord of the State\") was created. The office was later succeeded by the President of Singapore after Singapore\\'s independence in 1965. The initial role of the president was largely ceremonial and symbolic, carrying residual powers, but the role was later vested with some executive power which includes the reserve power to veto certain bills, most notably in relation to the country\\'s reserves as a check and balance process, as well as to revoke and appoint public service appointments among other powers listed in the Constitution.\\nPrior to 1991, the president was appointed by Parliament. A constitutional amendment was made that year to allow for the president to be directly elected by a popular vote, which was subsequently first held in 1993. Singapore follows a non-executive model of the Westminster parliamentary system whereby the president is not the head of government but rather the head of state. These powers are instead vested in the Cabinet, led by the prime minister. Another constitutional amendment was made in 2016, that allows for a presidential election to be reserved for an ethnic community in Singapore if no one from that community had been president for the previous five presidential terms.\\nThe president has far-reaching formal obligations and duty to act above party politics. Under the Constitution, the president must be a Singaporean citizen, non-partisan and elected by a popular vote. The incumbent president is Tharman Shanmugaratnam, who took office on 14 September 2023 after being duly elected in the 2023 presidential election with 70.41% of the vote.\\n\\n\\n== History ==\\nThe office of the President of the Republic of Singapore was created on 22 December 1965, retrospective to 9 August 1965, on which Singapore achieved independence from Malaysia. It succeeded the office of Yang di-Pertuan Negara (lit. \"Lord of the State\") which was created when Singapore attained full internal self-government from the British Empire in 1959. The last Yang di-Pertuan Negara, Yusof Ishak, became the first President. After his death in 1971, he was succeeded by Benjamin Sheares who was appointed by Parliament and served until his death in 1981.\\nSheares was succeeded by Devan Nair, who was the Member of Parliament (MP) for Anson SMC from 1979 to 1981, prior to his presidency, who then resigned in 1985. Whilst the apparent reason for Nair\\'s resignation was to seek recovery from his alcoholism, Nair disputes the account, claiming that he was forced out of office by former Prime Minister Goh Chok Tong. Nair was succeeded by Wee Kim Wee, who served as the Ambassador of South Korea and Japan from 1980 to 1984 prior to his presidency until 1993 and was the first president to exercise custodial powers pursuant to the constitutional amendments in 1991.\\nIn the early 1980s, the People\\'s Action Party (PAP), who at the time occupied all the parliamentary seats in Singapore, suffered their first parliamentary loss in 15 years to J. B. Jeyaretnam of the Worker\\'s Party (WP). As such, then-Prime Minister Lee Kuan Yew became worried that there would one day be a \"freak election result\" where the PAP would no longer have control over the Parliament and opposition parties would have unfettered access to the government\\'s reserves. As such, in January 1991, a constitutional amendment was passed by Parliament to redefine the role of the president.\\nThe amendment provided that the president would be elected by a popular vote, subject to strict eligibility requirements. The president was\\n</Document>\\n\\n---\\n\\n<Document source=\"https://en.wikipedia.org/wiki/Tan_Tai_Yong\" page=\"\"/>\\nTan Tai Yong (Chinese: 陈大荣; pinyin: Chén Dàróng) is a Singaporean academic who is the current President of Singapore University of Social Sciences. He served as the President of Yale-NUS College from 2017 to 2022. He is also Chairman of the Management Board of the Institute of South Asian Studies, an autonomous university-level research institute in NUS. He was a former Nominated Member of Parliament and served from 2014 to 2015.\\n\\n\\n== Education ==\\nTan earned a Bachelor of Arts and Master of Arts from the National University of Singapore. He then earned a PhD in South Asian history from Cambridge University, under the supervision of Anthony Low.\\n\\n\\n== Career ==\\nTan was a Deputy Head of the Department of History at NUS from 1998 to 1999. He also served the Faculty of Arts and Social Sciences as Sub-Dean (1994-1999), Acting Head of the Department of History (2000), Head of the History Department (2001-2003), Vice-Dean of the Faculty of Arts and Social Sciences (2001-2003), Dean of Faculty of Arts and Social Sciences (2004-2008), Vice Provost of Student Life (2010-2014) overseeing student matters, University Town and the Residential Colleges, the Centre for English Language and Communication, as well as the Office of Student Affairs and the Halls of Residence.\\nHe was the Founding Director of the Institute of South Asian Studies, and served in this position from 2008 to 2015. He served as Co-chair of the joint Yale and National University of Singapore committee in 2011.\\nTan was appointed to the Singapore Social Sciences Research Council in 2016. From August 2018 to May 2019, Professor Tan was the Institute of Policy Studies (IPS)’ 6th S R Nathan Fellow for the Study of Singapore.\\nHe is a member of the National Library Board (NLB) and the National Heritage Board (NHB), where he is also Honorary Chairman of the National Museum, co-chair of the Founders’ Memorial Committee and Chair of the National Collection Advisory Panel.\\nTan was awarded the Public Administration Medal (Silver) in 2009, and the Public Service Medal in 2020.\\nTan also served as Executive Vice-President (Academic Affairs) at Yale-NUS College from 2014 to 2017, before serving as its President from 2017 to 2022.\\nHe is currently serving as the President of Singapore University of Social Sciences since 1 January 2023.\\n\\n\\n== Research ==\\nTan\\'s research interests are in the areas of Sikh diaspora, civil-military relations, social and political history of colonial Punjab, and the partition of South Asia. Lately, he has shifted his attention to Southeast Asia, and has been exploring issues of networks formation and the place of maritime cities in the region.\\n\\n\\n== Selected publications ==\\nThe Idea of Singapore: Smallness Unconstrained, Singapore, 2019.\\nSingapore: Seven Hundred Years – A History of Singapore, Singapore, 2019. City (with Kwa Chong Guan and  Derek Heng and Peter Borschberg, 2019\\nA 700 Year History of Singapore. From Classical Emporium to World City (with Kwa Chong Guan and Derek Heng), National Archives Singapore, 2009.\\nCreating \"Greater Malaysia\": Decolonization and the Politics of Merger\\nTan Tai Yong (2005). The Garrison State: Military, Government and Society in Colonial Punjab, 1849–1947. SAGE. ISBN 978-0-7619-3336-6.\\nGyanesh Kudaisya; Tan Tai Yong (2002). The Aftermath of Partition in South Asia. Taylor & Francis. ISBN 978-0-203-45060-4.\\nBeyond Degrees: The Making of the National University of Singapore (with Edwin Lee). Singapore: Singapore University Press, 1996.\\nSingapore Khalsa Association. Singapore: Times Books International, 1988. (Second Edition, published by Marshall Cavendish, 2006)\\n\\n\\n== Prize and fellowship ==\\nSome of the prize and fellowship awards received by Tan Tai Yong includes:\\n\\nMoncado Prize for outstanding essay published in the Journal of Military History, 2001\\nBritish Academy Visiting Professor, 2003 (attached to Wellcome Trust Centre for the History of Medicine, University College London).\\nOverseas Commonwealth Fellowship and Visiting Fell\\n</Document>']"
            ]
          },
          "metadata": {},
          "execution_count": 36
        }
      ]
    },
    {
      "cell_type": "markdown",
      "source": [
        "# Build your own agent!\n",
        "\n",
        "Time to get creative and build your own agent!\n",
        "\n",
        "Remember -\n",
        "\n",
        "\n",
        "1.   Define your agent state.\n",
        "2.   Define the nodes\n",
        "3.   Define the connections or edges between the nodes. Note, edges can be conditional.\n",
        "4.   Add memory, if required.\n",
        "5.   Compile your agent.\n",
        "6.   Test it!\n",
        "\n",
        "\n",
        "\n",
        "You can use this [Research AI Assistant](https://colab.research.google.com/github/langchain-ai/langchain-academy/blob/main/module-4/research-assistant.ipynb) as an inspiration!\n",
        "\n",
        "Or refer to these use-cases: https://langchain-ai.github.io/langgraph/tutorials/\n"
      ],
      "metadata": {
        "id": "5C7To1VFToPJ"
      }
    },
    {
      "cell_type": "markdown",
      "source": [
        "# References\n",
        "\n",
        "1.   [LangChain Academy](https://github.com/langchain-ai/langchain-academy/tree/main)\n",
        "2.   [Building Agentic Workflows using LangGraph: Key Learnings](https://medium.com/@anuragmishra_27746/hands-on-build-agentic-workflow-using-langgraph-key-learnings-from-langchain-academy-part-1-9ad96d6c9210)"
      ],
      "metadata": {
        "id": "1wBHq1BAqfVk"
      }
    }
  ]
}